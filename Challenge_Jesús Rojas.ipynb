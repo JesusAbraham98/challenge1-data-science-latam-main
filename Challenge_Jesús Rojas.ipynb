{
  "cells": [
    {
      "cell_type": "markdown",
      "metadata": {
        "id": "RhEdWd9YUR6H"
      },
      "source": [
        "### Importación de datos\n",
        "\n"
      ]
    },
    {
      "cell_type": "code",
      "execution_count": 13,
      "metadata": {
        "colab": {
          "base_uri": "https://localhost:8080/",
          "height": 206
        },
        "id": "T3EvaeQ_INIL",
        "outputId": "e9c5efe1-82a3-43ab-e8d7-6d01e4fa3514"
      },
      "outputs": [
        {
          "data": {
            "text/html": [
              "<div>\n",
              "<style scoped>\n",
              "    .dataframe tbody tr th:only-of-type {\n",
              "        vertical-align: middle;\n",
              "    }\n",
              "\n",
              "    .dataframe tbody tr th {\n",
              "        vertical-align: top;\n",
              "    }\n",
              "\n",
              "    .dataframe thead th {\n",
              "        text-align: right;\n",
              "    }\n",
              "</style>\n",
              "<table border=\"1\" class=\"dataframe\">\n",
              "  <thead>\n",
              "    <tr style=\"text-align: right;\">\n",
              "      <th></th>\n",
              "      <th>Producto</th>\n",
              "      <th>Categoría del Producto</th>\n",
              "      <th>Precio</th>\n",
              "      <th>Costo de envío</th>\n",
              "      <th>Fecha de Compra</th>\n",
              "      <th>Vendedor</th>\n",
              "      <th>Lugar de Compra</th>\n",
              "      <th>Calificación</th>\n",
              "      <th>Método de pago</th>\n",
              "      <th>Cantidad de cuotas</th>\n",
              "      <th>lat</th>\n",
              "      <th>lon</th>\n",
              "      <th>tienda</th>\n",
              "    </tr>\n",
              "  </thead>\n",
              "  <tbody>\n",
              "    <tr>\n",
              "      <th>0</th>\n",
              "      <td>Asistente virtual</td>\n",
              "      <td>Electrónicos</td>\n",
              "      <td>164300.0</td>\n",
              "      <td>6900.0</td>\n",
              "      <td>16/01/2021</td>\n",
              "      <td>Pedro Gomez</td>\n",
              "      <td>Bogotá</td>\n",
              "      <td>4</td>\n",
              "      <td>Tarjeta de crédito</td>\n",
              "      <td>8</td>\n",
              "      <td>4.60971</td>\n",
              "      <td>-74.08175</td>\n",
              "      <td>tienda</td>\n",
              "    </tr>\n",
              "    <tr>\n",
              "      <th>1</th>\n",
              "      <td>Mesa de comedor</td>\n",
              "      <td>Muebles</td>\n",
              "      <td>192300.0</td>\n",
              "      <td>8400.0</td>\n",
              "      <td>18/05/2022</td>\n",
              "      <td>Beatriz Morales</td>\n",
              "      <td>Medellín</td>\n",
              "      <td>1</td>\n",
              "      <td>Tarjeta de crédito</td>\n",
              "      <td>4</td>\n",
              "      <td>6.25184</td>\n",
              "      <td>-75.56359</td>\n",
              "      <td>tienda</td>\n",
              "    </tr>\n",
              "    <tr>\n",
              "      <th>2</th>\n",
              "      <td>Juego de mesa</td>\n",
              "      <td>Juguetes</td>\n",
              "      <td>209600.0</td>\n",
              "      <td>15900.0</td>\n",
              "      <td>15/03/2021</td>\n",
              "      <td>Juan Fernandez</td>\n",
              "      <td>Cartagena</td>\n",
              "      <td>1</td>\n",
              "      <td>Tarjeta de crédito</td>\n",
              "      <td>1</td>\n",
              "      <td>10.39972</td>\n",
              "      <td>-75.51444</td>\n",
              "      <td>tienda</td>\n",
              "    </tr>\n",
              "    <tr>\n",
              "      <th>3</th>\n",
              "      <td>Microondas</td>\n",
              "      <td>Electrodomésticos</td>\n",
              "      <td>757500.0</td>\n",
              "      <td>41000.0</td>\n",
              "      <td>03/05/2022</td>\n",
              "      <td>Juan Fernandez</td>\n",
              "      <td>Cali</td>\n",
              "      <td>4</td>\n",
              "      <td>Nequi</td>\n",
              "      <td>1</td>\n",
              "      <td>3.43722</td>\n",
              "      <td>-76.52250</td>\n",
              "      <td>tienda</td>\n",
              "    </tr>\n",
              "    <tr>\n",
              "      <th>4</th>\n",
              "      <td>Silla de oficina</td>\n",
              "      <td>Muebles</td>\n",
              "      <td>335200.0</td>\n",
              "      <td>20200.0</td>\n",
              "      <td>07/11/2020</td>\n",
              "      <td>Maria Alfonso</td>\n",
              "      <td>Medellín</td>\n",
              "      <td>5</td>\n",
              "      <td>Nequi</td>\n",
              "      <td>1</td>\n",
              "      <td>6.25184</td>\n",
              "      <td>-75.56359</td>\n",
              "      <td>tienda</td>\n",
              "    </tr>\n",
              "  </tbody>\n",
              "</table>\n",
              "</div>"
            ],
            "text/plain": [
              "            Producto Categoría del Producto    Precio  Costo de envío  \\\n",
              "0  Asistente virtual           Electrónicos  164300.0          6900.0   \n",
              "1    Mesa de comedor                Muebles  192300.0          8400.0   \n",
              "2      Juego de mesa               Juguetes  209600.0         15900.0   \n",
              "3         Microondas      Electrodomésticos  757500.0         41000.0   \n",
              "4   Silla de oficina                Muebles  335200.0         20200.0   \n",
              "\n",
              "  Fecha de Compra         Vendedor Lugar de Compra  Calificación  \\\n",
              "0      16/01/2021      Pedro Gomez          Bogotá             4   \n",
              "1      18/05/2022  Beatriz Morales        Medellín             1   \n",
              "2      15/03/2021   Juan Fernandez       Cartagena             1   \n",
              "3      03/05/2022   Juan Fernandez            Cali             4   \n",
              "4      07/11/2020    Maria Alfonso        Medellín             5   \n",
              "\n",
              "       Método de pago  Cantidad de cuotas       lat       lon  tienda  \n",
              "0  Tarjeta de crédito                   8   4.60971 -74.08175  tienda  \n",
              "1  Tarjeta de crédito                   4   6.25184 -75.56359  tienda  \n",
              "2  Tarjeta de crédito                   1  10.39972 -75.51444  tienda  \n",
              "3               Nequi                   1   3.43722 -76.52250  tienda  \n",
              "4               Nequi                   1   6.25184 -75.56359  tienda  "
            ]
          },
          "execution_count": 13,
          "metadata": {},
          "output_type": "execute_result"
        }
      ],
      "source": [
        "import pandas as pd\n",
        "\n",
        "url1 = \"https://raw.githubusercontent.com/alura-es-cursos/challenge1-data-science-latam/refs/heads/main/base-de-datos-challenge1-latam/tienda_1%20.csv\"\n",
        "url2 = \"https://raw.githubusercontent.com/alura-es-cursos/challenge1-data-science-latam/refs/heads/main/base-de-datos-challenge1-latam/tienda_2.csv\"\n",
        "url3 = \"https://raw.githubusercontent.com/alura-es-cursos/challenge1-data-science-latam/refs/heads/main/base-de-datos-challenge1-latam/tienda_3.csv\"\n",
        "url4 = \"https://raw.githubusercontent.com/alura-es-cursos/challenge1-data-science-latam/refs/heads/main/base-de-datos-challenge1-latam/tienda_4.csv\"\n",
        "\n",
        "tienda1 = pd.read_csv(url1)\n",
        "tienda2 = pd.read_csv(url2)\n",
        "tienda3 = pd.read_csv(url3)\n",
        "tienda4 = pd.read_csv(url4)\n",
        "\n",
        "tienda.head()"
      ]
    },
    {
      "cell_type": "markdown",
      "metadata": {
        "id": "X62IW3KFUIYm"
      },
      "source": [
        "# 1. Análisis de facturación\n",
        "\n"
      ]
    },
    {
      "cell_type": "code",
      "execution_count": 14,
      "metadata": {
        "id": "xykobSftV64I"
      },
      "outputs": [],
      "source": [
        "tienda1[\"tienda\"] = \"tienda1\"\n",
        "tienda2[\"tienda\"] = \"tienda2\"\n",
        "tienda3[\"tienda\"] = \"tienda3\"\n",
        "tienda4[\"tienda\"] = \"tienda4\"\n",
        "\n",
        "# Unir todas las tiendas\n",
        "df_total = pd.concat([tienda1, tienda2, tienda3, tienda4], ignore_index=True)"
      ]
    },
    {
      "cell_type": "code",
      "execution_count": null,
      "metadata": {
        "id": "KDyr8E71V3m-"
      },
      "outputs": [
        {
          "data": {
            "text/html": [
              "<div>\n",
              "<style scoped>\n",
              "    .dataframe tbody tr th:only-of-type {\n",
              "        vertical-align: middle;\n",
              "    }\n",
              "\n",
              "    .dataframe tbody tr th {\n",
              "        vertical-align: top;\n",
              "    }\n",
              "\n",
              "    .dataframe thead th {\n",
              "        text-align: right;\n",
              "    }\n",
              "</style>\n",
              "<table border=\"1\" class=\"dataframe\">\n",
              "  <thead>\n",
              "    <tr style=\"text-align: right;\">\n",
              "      <th></th>\n",
              "      <th>Producto</th>\n",
              "      <th>Categoría del Producto</th>\n",
              "      <th>Precio</th>\n",
              "      <th>Costo de envío</th>\n",
              "      <th>Fecha de Compra</th>\n",
              "      <th>Vendedor</th>\n",
              "      <th>Lugar de Compra</th>\n",
              "      <th>Calificación</th>\n",
              "      <th>Método de pago</th>\n",
              "      <th>Cantidad de cuotas</th>\n",
              "      <th>lat</th>\n",
              "      <th>lon</th>\n",
              "      <th>tienda</th>\n",
              "    </tr>\n",
              "  </thead>\n",
              "  <tbody>\n",
              "    <tr>\n",
              "      <th>0</th>\n",
              "      <td>Asistente virtual</td>\n",
              "      <td>Electrónicos</td>\n",
              "      <td>164300.0</td>\n",
              "      <td>6900.0</td>\n",
              "      <td>16/01/2021</td>\n",
              "      <td>Pedro Gomez</td>\n",
              "      <td>Bogotá</td>\n",
              "      <td>4</td>\n",
              "      <td>Tarjeta de crédito</td>\n",
              "      <td>8</td>\n",
              "      <td>4.60971</td>\n",
              "      <td>-74.08175</td>\n",
              "      <td>tienda</td>\n",
              "    </tr>\n",
              "    <tr>\n",
              "      <th>1</th>\n",
              "      <td>Mesa de comedor</td>\n",
              "      <td>Muebles</td>\n",
              "      <td>192300.0</td>\n",
              "      <td>8400.0</td>\n",
              "      <td>18/05/2022</td>\n",
              "      <td>Beatriz Morales</td>\n",
              "      <td>Medellín</td>\n",
              "      <td>1</td>\n",
              "      <td>Tarjeta de crédito</td>\n",
              "      <td>4</td>\n",
              "      <td>6.25184</td>\n",
              "      <td>-75.56359</td>\n",
              "      <td>tienda</td>\n",
              "    </tr>\n",
              "    <tr>\n",
              "      <th>2</th>\n",
              "      <td>Juego de mesa</td>\n",
              "      <td>Juguetes</td>\n",
              "      <td>209600.0</td>\n",
              "      <td>15900.0</td>\n",
              "      <td>15/03/2021</td>\n",
              "      <td>Juan Fernandez</td>\n",
              "      <td>Cartagena</td>\n",
              "      <td>1</td>\n",
              "      <td>Tarjeta de crédito</td>\n",
              "      <td>1</td>\n",
              "      <td>10.39972</td>\n",
              "      <td>-75.51444</td>\n",
              "      <td>tienda</td>\n",
              "    </tr>\n",
              "    <tr>\n",
              "      <th>3</th>\n",
              "      <td>Microondas</td>\n",
              "      <td>Electrodomésticos</td>\n",
              "      <td>757500.0</td>\n",
              "      <td>41000.0</td>\n",
              "      <td>03/05/2022</td>\n",
              "      <td>Juan Fernandez</td>\n",
              "      <td>Cali</td>\n",
              "      <td>4</td>\n",
              "      <td>Nequi</td>\n",
              "      <td>1</td>\n",
              "      <td>3.43722</td>\n",
              "      <td>-76.52250</td>\n",
              "      <td>tienda</td>\n",
              "    </tr>\n",
              "    <tr>\n",
              "      <th>4</th>\n",
              "      <td>Silla de oficina</td>\n",
              "      <td>Muebles</td>\n",
              "      <td>335200.0</td>\n",
              "      <td>20200.0</td>\n",
              "      <td>07/11/2020</td>\n",
              "      <td>Maria Alfonso</td>\n",
              "      <td>Medellín</td>\n",
              "      <td>5</td>\n",
              "      <td>Nequi</td>\n",
              "      <td>1</td>\n",
              "      <td>6.25184</td>\n",
              "      <td>-75.56359</td>\n",
              "      <td>tienda</td>\n",
              "    </tr>\n",
              "  </tbody>\n",
              "</table>\n",
              "</div>"
            ],
            "text/plain": [
              "            Producto Categoría del Producto    Precio  Costo de envío  \\\n",
              "0  Asistente virtual           Electrónicos  164300.0          6900.0   \n",
              "1    Mesa de comedor                Muebles  192300.0          8400.0   \n",
              "2      Juego de mesa               Juguetes  209600.0         15900.0   \n",
              "3         Microondas      Electrodomésticos  757500.0         41000.0   \n",
              "4   Silla de oficina                Muebles  335200.0         20200.0   \n",
              "\n",
              "  Fecha de Compra         Vendedor Lugar de Compra  Calificación  \\\n",
              "0      16/01/2021      Pedro Gomez          Bogotá             4   \n",
              "1      18/05/2022  Beatriz Morales        Medellín             1   \n",
              "2      15/03/2021   Juan Fernandez       Cartagena             1   \n",
              "3      03/05/2022   Juan Fernandez            Cali             4   \n",
              "4      07/11/2020    Maria Alfonso        Medellín             5   \n",
              "\n",
              "       Método de pago  Cantidad de cuotas       lat       lon  tienda  \n",
              "0  Tarjeta de crédito                   8   4.60971 -74.08175  tienda  \n",
              "1  Tarjeta de crédito                   4   6.25184 -75.56359  tienda  \n",
              "2  Tarjeta de crédito                   1  10.39972 -75.51444  tienda  \n",
              "3               Nequi                   1   3.43722 -76.52250  tienda  \n",
              "4               Nequi                   1   6.25184 -75.56359  tienda  "
            ]
          },
          "execution_count": 4,
          "metadata": {},
          "output_type": "execute_result"
        }
      ],
      "source": [
        "\n",
        "df_total.head()"
      ]
    },
    {
      "cell_type": "code",
      "execution_count": 19,
      "metadata": {},
      "outputs": [
        {
          "name": "stdout",
          "output_type": "stream",
          "text": [
            "Facturación total: 13102551000.0\n",
            "    tienda       facturacion\n",
            "0  tienda1  3,422,717,700.00\n",
            "1  tienda2  3,337,189,200.00\n",
            "2  tienda3  3,243,816,900.00\n",
            "3  tienda4  3,098,827,200.00\n"
          ]
        }
      ],
      "source": [
        "df_total[\"facturacion\"] = df_total[\"Precio\"] * df_total[\"Cantidad de cuotas\"]\n",
        "facturacion_total = df_total[\"facturacion\"].sum()\n",
        "print(\"Facturación total:\", round(facturacion_total, 2))\n",
        "\n",
        "facturacion_por_tienda = df_total.groupby(\"tienda\")[\"facturacion\"].sum().reset_index()\n",
        "facturacion_por_tienda[\"facturacion\"] = facturacion_por_tienda[\"facturacion\"].apply(lambda x: f\"{x:,.2f}\")\n",
        "print(facturacion_por_tienda)\n"
      ]
    },
    {
      "cell_type": "markdown",
      "metadata": {
        "id": "2V_vcAPzWZmR"
      },
      "source": [
        "# 2. Ventas por categoría"
      ]
    },
    {
      "cell_type": "code",
      "execution_count": 24,
      "metadata": {
        "id": "A34YupIuYhfF"
      },
      "outputs": [
        {
          "name": "stdout",
          "output_type": "stream",
          "text": [
            "Ventas por categoría:\n",
            "    Categoría del Producto       facturacion\n",
            "0  Artículos para el hogar    170,360,400.00\n",
            "1     Deportes y diversión    432,005,500.00\n",
            "2        Electrodomésticos  4,019,072,300.00\n",
            "3             Electrónicos  4,889,815,300.00\n",
            "4   Instrumentos musicales  1,044,612,400.00\n",
            "5                 Juguetes    211,615,600.00\n",
            "6                   Libros    113,088,700.00\n",
            "7                  Muebles  2,221,980,800.00\n"
          ]
        }
      ],
      "source": [
        "\n",
        "ventas_por_categoria = df_total.groupby(\"Categoría del Producto\")[\"facturacion\"].sum().reset_index()\n",
        "\n",
        "ventas_por_categoria[\"facturacion\"] = ventas_por_categoria[\"facturacion\"].apply(lambda x: f\"{x:,.2f}\")\n",
        "\n",
        "print(\"Ventas por categoría:\")\n",
        "print(ventas_por_categoria)"
      ]
    },
    {
      "cell_type": "markdown",
      "metadata": {
        "id": "Rq6tU_xSY3jk"
      },
      "source": [
        "# 3. Calificación promedio de la tienda\n"
      ]
    },
    {
      "cell_type": "code",
      "execution_count": null,
      "metadata": {
        "id": "bh3jjjJwY5MU"
      },
      "outputs": [
        {
          "name": "stdout",
          "output_type": "stream",
          "text": [
            "Calificación promedio por tienda:\n",
            "    tienda  Calificación\n",
            "0  tienda1          3.98\n",
            "1  tienda2          4.04\n",
            "2  tienda3          4.05\n",
            "3  tienda4          4.00\n"
          ]
        }
      ],
      "source": [
        "# Calcular calificación promedio por tienda\n",
        "calificacion_promedio = df_total.groupby(\"tienda\")[\"Calificación\"].mean().reset_index()\n",
        "\n",
        "calificacion_promedio[\"Calificación\"] = calificacion_promedio[\"Calificación\"].round(2)\n",
        "\n",
        "print(\"Calificación promedio por tienda:\")\n",
        "print(calificacion_promedio)\n"
      ]
    },
    {
      "cell_type": "markdown",
      "metadata": {
        "id": "DmNp1KPBZCm-"
      },
      "source": [
        "# 4. Productos más y menos vendidos"
      ]
    },
    {
      "cell_type": "code",
      "execution_count": 28,
      "metadata": {
        "id": "qoyjqijQZHfF"
      },
      "outputs": [
        {
          "name": "stdout",
          "output_type": "stream",
          "text": [
            "Productos más vendidos:\n",
            "            Producto  Cantidad de cuotas\n",
            "40  Secadora de ropa                 649\n",
            "32     Mesa de noche                 627\n",
            "38         Pandereta                 625\n",
            "8          Bicicleta                 614\n",
            "25         Iphone 15                 611\n",
            "\n",
            "Productos menos vendidos:\n",
            "          Producto  Cantidad de cuotas\n",
            "30  Mesa de centro                 469\n",
            "19  Dinosaurio Rex                 458\n",
            "13    Celular ABXY                 447\n",
            "42    Set de vasos                 435\n",
            "46      Smartwatch                 432\n"
          ]
        }
      ],
      "source": [
        "# Agrupar por producto y sumar la cantidad de cuotas (ventas)\n",
        "ventas_por_producto = df_total.groupby(\"Producto\")[\"Cantidad de cuotas\"].sum().reset_index()\n",
        "\n",
        "# Ordenar de mayor a menor\n",
        "ventas_ordenadas = ventas_por_producto.sort_values(by=\"Cantidad de cuotas\", ascending=False)\n",
        "\n",
        "# Mostrar el top 5 más vendidos\n",
        "print(\"Productos más vendidos:\")\n",
        "print(ventas_ordenadas.head())\n",
        "\n",
        "# Mostrar el top 5 menos vendidos\n",
        "print(\"\\nProductos menos vendidos:\")\n",
        "print(ventas_ordenadas.tail())\n"
      ]
    },
    {
      "cell_type": "markdown",
      "metadata": {
        "id": "Fl0cGi3bZKqU"
      },
      "source": [
        "# 5. Envío promedio por tienda"
      ]
    },
    {
      "cell_type": "code",
      "execution_count": 29,
      "metadata": {
        "id": "S2JeaCykZNy9"
      },
      "outputs": [
        {
          "name": "stdout",
          "output_type": "stream",
          "text": [
            "Costo de envío promedio por tienda:\n",
            "    tienda  Costo de envío\n",
            "0  tienda1        26018.61\n",
            "1  tienda2        25216.24\n",
            "2  tienda3        24805.68\n",
            "3  tienda4        23459.46\n"
          ]
        }
      ],
      "source": [
        "envio_promedio_por_tienda = df_total.groupby(\"tienda\")[\"Costo de envío\"].mean().reset_index()\n",
        "\n",
        "# Redondear a 2 decimales\n",
        "envio_promedio_por_tienda[\"Costo de envío\"] = envio_promedio_por_tienda[\"Costo de envío\"].round(2)\n",
        "\n",
        "print(\"Costo de envío promedio por tienda:\")\n",
        "print(envio_promedio_por_tienda)\n"
      ]
    },
    {
      "cell_type": "markdown",
      "metadata": {},
      "source": [
        "# Análisis final"
      ]
    },
    {
      "cell_type": "markdown",
      "metadata": {},
      "source": [
        "* La tienda con mayor facturación es Tienda 1, con un total de 3,422,717,700.00, lo que evidencia un alto volumen de ventas o precios más elevados. En contraste, la tienda con menor facturación es Tienda 4, con 3,098,827,200.00, lo que podría deberse a una menor cantidad de productos vendidos o precios unitarios más bajos. \n",
        "* En cuanto a calificación promedio, la Tienda 3 tiene la mayor calificación con 4.05 puntos, y, la Tienda 1 tiene la menor calificación promedio con 3.98 puntos.\n",
        "* El costo de Envio de la Tienda 1 es el mayor con respecto al resto, y quien ofrece menor costo de envio es la Tienda 4."
      ]
    },
    {
      "cell_type": "markdown",
      "metadata": {},
      "source": [
        "En síntesis: Se recomienda la venta de la Tienda 4 al realizar una comparación entre ellas con respecto a las ventas realizadas, a pesar de la baja calificación de la Tienda 1, este ofrece mayor facturación que otras tiendas y la Tienda 4 ofrece menos."
      ]
    }
  ],
  "metadata": {
    "colab": {
      "provenance": []
    },
    "kernelspec": {
      "display_name": "base",
      "language": "python",
      "name": "python3"
    },
    "language_info": {
      "codemirror_mode": {
        "name": "ipython",
        "version": 3
      },
      "file_extension": ".py",
      "mimetype": "text/x-python",
      "name": "python",
      "nbconvert_exporter": "python",
      "pygments_lexer": "ipython3",
      "version": "3.12.4"
    }
  },
  "nbformat": 4,
  "nbformat_minor": 0
}
